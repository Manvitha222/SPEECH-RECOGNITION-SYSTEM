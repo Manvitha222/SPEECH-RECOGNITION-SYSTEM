{
 "cells": [
  {
   "cell_type": "code",
   "execution_count": 1,
   "id": "eb6214cf-48e4-4aea-a37a-21da973431c8",
   "metadata": {},
   "outputs": [],
   "source": [
    "import speech_recognition as sr"
   ]
  },
  {
   "cell_type": "code",
   "execution_count": 10,
   "id": "c00133ed-e7d4-40dd-bf3a-ff397eb94201",
   "metadata": {},
   "outputs": [
    {
     "ename": "SyntaxError",
     "evalue": "invalid syntax (1421569993.py, line 1)",
     "output_type": "error",
     "traceback": [
      "  \u001b[36mCell\u001b[39m\u001b[36m \u001b[39m\u001b[32mIn[10]\u001b[39m\u001b[32m, line 1\u001b[39m\n\u001b[31m    \u001b[39m\u001b[31mdef transcribe_audio(\"\\home\\Users\\manvi\\Downloads\\sunflower.mp3\"):\u001b[39m\n                         ^\n\u001b[31mSyntaxError\u001b[39m\u001b[31m:\u001b[39m invalid syntax\n"
     ]
    }
   ],
   "source": [
    "def transcribe_audio(\"\\home\\Users\\manvi\\Downloads\\sunflower.mp3\"):\n",
    "    recognizer = sr.Recognizer()\n",
    "    with sr.AudioFile(file_path) as source:\n",
    "        print(\"Listening...\")\n",
    "        audio = recognizer.record(source)\n",
    "        print(\"Recognizing...\")\n",
    "        try:\n",
    "            text = recognizer.recognize_google(audio)\n",
    "            print(\"Transcription:\", text)\n",
    "        except sr.UnknownValueError:\n",
    "            print(\"Could not understand audio\")\n",
    "        except sr.RequestError:\n",
    "            print(\"Could not request results pls check internet connection.\")\n",
    "\n",
    "# Example usage\n",
    "transcribe_audio(\"sunflower.wav\")"
   ]
  },
  {
   "cell_type": "code",
   "execution_count": null,
   "id": "870d9642-2aed-4777-96b2-781dba62c91c",
   "metadata": {},
   "outputs": [],
   "source": []
  }
 ],
 "metadata": {
  "kernelspec": {
   "display_name": "Python 3 (ipykernel)",
   "language": "python",
   "name": "python3"
  },
  "language_info": {
   "codemirror_mode": {
    "name": "ipython",
    "version": 3
   },
   "file_extension": ".py",
   "mimetype": "text/x-python",
   "name": "python",
   "nbconvert_exporter": "python",
   "pygments_lexer": "ipython3",
   "version": "3.12.3"
  }
 },
 "nbformat": 4,
 "nbformat_minor": 5
}
